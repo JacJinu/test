{
 "cells": [
  {
   "attachments": {},
   "cell_type": "markdown",
   "metadata": {},
   "source": [
    "## Code 1"
   ]
  },
  {
   "attachments": {},
   "cell_type": "markdown",
   "metadata": {},
   "source": [
    "### import"
   ]
  },
  {
   "cell_type": "code",
   "execution_count": 9,
   "metadata": {},
   "outputs": [
    {
     
     "output_type": "error",
     "traceback": [
      "\u001b[1;31m---------------------------------------------------------------------------\u001b[0m",
      "\u001b[1;31mModuleNotFoundError\u001b[0m                       Traceback (most recent call last)",
      "Cell \u001b[1;32mIn[9], line 3\u001b[0m\n\u001b[0;32m      1\u001b[0m \u001b[39mimport\u001b[39;00m \u001b[39mnumpy\u001b[39;00m \u001b[39mas\u001b[39;00m \u001b[39mnp\u001b[39;00m\n\u001b[0;32m      2\u001b[0m \u001b[39mimport\u001b[39;00m \u001b[39mpandas\u001b[39;00m \u001b[39mas\u001b[39;00m \u001b[39mpd\u001b[39;00m\n\u001b[1;32m----> 3\u001b[0m \u001b[39mimport\u001b[39;00m \u001b[39mmatplotlib\u001b[39;00m\u001b[39m.\u001b[39;00m\u001b[39mpyplot\u001b[39;00m \u001b[39mas\u001b[39;00m \u001b[39mplt\u001b[39;00m\n\u001b[0;32m      4\u001b[0m \u001b[39mfrom\u001b[39;00m \u001b[39mscipy\u001b[39;00m\u001b[39m.\u001b[39;00m\u001b[39moptimize\u001b[39;00m \u001b[39mimport\u001b[39;00m curve_fit, leastsq\n\u001b[0;32m      5\u001b[0m \u001b[39mimport\u001b[39;00m \u001b[39mscipy\u001b[39;00m\u001b[39m.\u001b[39;00m\u001b[39msignal\u001b[39;00m \u001b[39mas\u001b[39;00m \u001b[39msig\u001b[39;00m\n",
      "File \u001b[1;32m~\\AppData\\Roaming\\Python\\Python311\\site-packages\\matplotlib\\__init__.py:113\u001b[0m\n\u001b[0;32m    109\u001b[0m \u001b[39mfrom\u001b[39;00m \u001b[39mpackaging\u001b[39;00m\u001b[39m.\u001b[39;00m\u001b[39mversion\u001b[39;00m \u001b[39mimport\u001b[39;00m parse \u001b[39mas\u001b[39;00m parse_version\n\u001b[0;32m    111\u001b[0m \u001b[39m# cbook must import matplotlib only within function\u001b[39;00m\n\u001b[0;32m    112\u001b[0m \u001b[39m# definitions, so it is safe to import from it here.\u001b[39;00m\n\u001b[1;32m--> 113\u001b[0m \u001b[39mfrom\u001b[39;00m \u001b[39m.\u001b[39;00m \u001b[39mimport\u001b[39;00m _api, _version, cbook, _docstring, rcsetup\n\u001b[0;32m    114\u001b[0m \u001b[39mfrom\u001b[39;00m \u001b[39mmatplotlib\u001b[39;00m\u001b[39m.\u001b[39;00m\u001b[39mcbook\u001b[39;00m \u001b[39mimport\u001b[39;00m sanitize_sequence\n\u001b[0;32m    115\u001b[0m \u001b[39mfrom\u001b[39;00m \u001b[39mmatplotlib\u001b[39;00m\u001b[39m.\u001b[39;00m\u001b[39m_api\u001b[39;00m \u001b[39mimport\u001b[39;00m MatplotlibDeprecationWarning\n",
      "File \u001b[1;32m~\\AppData\\Roaming\\Python\\Python311\\site-packages\\matplotlib\\rcsetup.py:27\u001b[0m\n\u001b[0;32m     25\u001b[0m \u001b[39mfrom\u001b[39;00m \u001b[39mmatplotlib\u001b[39;00m \u001b[39mimport\u001b[39;00m _api, cbook\n\u001b[0;32m     26\u001b[0m \u001b[39mfrom\u001b[39;00m \u001b[39mmatplotlib\u001b[39;00m\u001b[39m.\u001b[39;00m\u001b[39mcbook\u001b[39;00m \u001b[39mimport\u001b[39;00m ls_mapper\n\u001b[1;32m---> 27\u001b[0m \u001b[39mfrom\u001b[39;00m \u001b[39mmatplotlib\u001b[39;00m\u001b[39m.\u001b[39;00m\u001b[39mcolors\u001b[39;00m \u001b[39mimport\u001b[39;00m Colormap, is_color_like\n\u001b[0;32m     28\u001b[0m \u001b[39mfrom\u001b[39;00m \u001b[39mmatplotlib\u001b[39;00m\u001b[39m.\u001b[39;00m\u001b[39m_fontconfig_pattern\u001b[39;00m \u001b[39mimport\u001b[39;00m parse_fontconfig_pattern\n\u001b[0;32m     29\u001b[0m \u001b[39mfrom\u001b[39;00m \u001b[39mmatplotlib\u001b[39;00m\u001b[39m.\u001b[39;00m\u001b[39m_enums\u001b[39;00m \u001b[39mimport\u001b[39;00m JoinStyle, CapStyle\n",
      "File \u001b[1;32m~\\AppData\\Roaming\\Python\\Python311\\site-packages\\matplotlib\\colors.py:51\u001b[0m\n\u001b[0;32m     49\u001b[0m \u001b[39mfrom\u001b[39;00m \u001b[39mnumbers\u001b[39;00m \u001b[39mimport\u001b[39;00m Number\n\u001b[0;32m     50\u001b[0m \u001b[39mimport\u001b[39;00m \u001b[39mre\u001b[39;00m\n\u001b[1;32m---> 51\u001b[0m \u001b[39mfrom\u001b[39;00m \u001b[39mPIL\u001b[39;00m \u001b[39mimport\u001b[39;00m Image\n\u001b[0;32m     52\u001b[0m \u001b[39mfrom\u001b[39;00m \u001b[39mPIL\u001b[39;00m\u001b[39m.\u001b[39;00m\u001b[39mPngImagePlugin\u001b[39;00m \u001b[39mimport\u001b[39;00m PngInfo\n\u001b[0;32m     54\u001b[0m \u001b[39mimport\u001b[39;00m \u001b[39mmatplotlib\u001b[39;00m \u001b[39mas\u001b[39;00m \u001b[39mmpl\u001b[39;00m\n",
      "\u001b[1;31mModuleNotFoundError\u001b[0m: No module named 'PIL'"
     ]
    }
   ],
   "source": [
    "import numpy as np\n",
    "import pandas as pd\n",
    "import matplotlib.pyplot as plt\n",
    "from scipy.optimize import curve_fit, leastsq\n",
    "import scipy.signal as sig"
   ]
  },
  {
   "attachments": {},
   "cell_type": "markdown",
   "metadata": {},
   "source": [
    "### Data"
   ]
  },
  {
   "cell_type": "code",
   "execution_count": null,
   "metadata": {},
   "outputs": [
    {
     "name": "stdout",
     "output_type": "stream",
     "text": [
      "[2453063.80694 2453789.78139 2453790.84262 2453866.60643 2453868.64102\n",
      " 2454136.82285 2454142.83664 2454234.60119 2454254.52632 2454483.7925\n",
      " 2454487.83046 2454522.83013 2454540.77333 2454541.78467 2454556.6603\n",
      " 2454557.65078 2454558.752   2454563.66079 2454582.59476 2454611.57886\n",
      " 2454813.85368 2454850.82788 2454871.71718 2454872.80015 2454921.78824\n",
      " 2454930.588   2454931.6658  2455013.52439 2455019.4897  2455019.49746\n",
      " 2455229.78507 2455237.81571 2455247.8219  2455247.90672 2455266.77331\n",
      " 2455293.65302 2455325.57564 2455404.47643 2455588.86816 2455672.63399\n",
      " 2455689.56289 2455695.51915 2455729.47723 2455960.88736 2456023.72922\n",
      " 2456025.65267 2456051.70645 2456080.47594 2456312.82503 2456332.84591\n",
      " 2456356.8728  2456383.79655 2456385.71096 2456411.7368  2456672.86097\n",
      " 2456730.75336 2456731.65786 2456738.74854 2456743.61754 2456763.68259\n",
      " 2456767.62714 2456819.6071  2456863.47332 2457101.67399 2457147.64728\n",
      " 2457157.64768 2457211.53054 2457219.52163 2457370.86301 2457373.86733\n",
      " 2457413.77595 2457429.80819 2457453.76792 2457454.88371 2457730.8668\n",
      " 2457821.57412 2457847.55884 2457859.57102 2457936.452   2458108.86121\n",
      " 2458149.80101 2458156.81532 2458161.81519 2458162.79918 2458188.73169\n",
      " 2458203.74568 2458217.70279 2458298.57103 2458515.82235 2458553.68441] [  7.936 -21.048 -16.754 -17.186 -14.208   7.869   9.768  10.154  15.368\n",
      "  11.613  11.163  11.477  19.097 -15.142   4.768  12.85    8.154   7.987\n",
      "   5.564   7.917  13.098   7.401  10.086  11.06   21.605  11.7    13.202\n",
      "   8.391   5.287   3.291  -7.607 -13.35  -12.139  -6.883 -18.62   -9.573\n",
      " -22.605 -18.758 -28.714 -25.529 -24.969 -23.557 -17.689   2.784   0.352\n",
      "   8.32    6.093   9.663  10.308  16.432   7.599   8.993  17.089   3.829\n",
      "   7.448  11.829   9.002  10.539  13.56   14.32   12.903   9.885  11.187\n",
      "  -6.186 -10.167  -4.526  -6.754  -6.656 -21.13  -14.818 -18.647 -25.011\n",
      " -23.019 -20.599  -6.709   6.077   2.58   12.419  11.89   15.887  14.522\n",
      "  21.619  15.682   8.929  17.294  18.992  15.838  13.314  20.535  15.37 ] [ 1.133  1.637  1.717  1.859  2.926  1.307  1.497  2.617  1.615  1.413\n",
      "  1.706  2.046  2.273 11.033  1.989  2.114  2.34   1.45   2.473  1.677\n",
      "  1.96   1.678  2.419  2.567  1.966  2.208  2.084  1.891  1.761  1.772\n",
      "  1.749  1.504  1.868  2.098  1.842  1.915  1.212  1.836  1.03   1.485\n",
      "  1.659  1.121  1.541  1.688  2.676  3.001  4.397  1.774  2.371  2.163\n",
      "  2.56   1.658  1.509  1.643  1.576  1.441  1.395  1.31   2.102  1.386\n",
      "  1.413  2.313  1.435  1.64   1.163  2.146  3.928  1.711  2.554  1.285\n",
      "  1.289  1.696  0.889  1.285  1.027  1.481  1.149  1.638  1.437  1.797\n",
      "  1.638  1.407  1.563  1.626  1.551  1.515  1.53   3.332  1.387  2.453]\n"
     ]
    }
   ],
   "source": [
    "df = pd.read_csv(\"G:\\MSc Project\\Data\\hd103891.dat\", delimiter='\\t')\n",
    "\n",
    "xData = []\n",
    "yData=[]\n",
    "Uncertainty=[]\n",
    "\n",
    "for row in df[df.columns[0]]:\n",
    "  xData.append(row)\n",
    "#print(xData)\n",
    "\n",
    "for row in df[df.columns[1]]:\n",
    "  yData.append(row)\n",
    "#print(yData)\n",
    "\n",
    "for row in df[df.columns[2]]:\n",
    "  Uncertainty.append(row)\n",
    "#print(Uncertainty)\n",
    "\n",
    "t = np.array(xData) \n",
    "vr = np.array(yData) \n",
    "jitter = np.array(Uncertainty)"
   ]
  },
  {
   "attachments": {},
   "cell_type": "markdown",
   "metadata": {},
   "source": [
    "### Radial velocity offset c"
   ]
  },
  {
   "cell_type": "code",
   "execution_count": null,
   "metadata": {},
   "outputs": [],
   "source": [
    "\n",
    "def find_c(t, vr, jitter):\n",
    "    c = np.mean(vr)\n",
    "    print(\"Radial velocity offset (c): \", c)\n",
    "    return c\n",
    "\n",
    "c=find_c(t, vr, jitter)"
   ]
  },
  {
   "attachments": {},
   "cell_type": "markdown",
   "metadata": {},
   "source": [
    "### kepler"
   ]
  },
  {
   "cell_type": "code",
   "execution_count": null,
   "metadata": {},
   "outputs": [],
   "source": [
    "def solve_kep_eqn(M, e):\n",
    "    E_prev = M\n",
    "    for i in range(100):\n",
    "        E_next = M + e*np.sin(E_prev)\n",
    "        if abs((E_next - E_prev).any()) < 1e-8:\n",
    "            break\n",
    "        E_prev = E_next\n",
    "    return E_next"
   ]
  },
  {
   "attachments": {},
   "cell_type": "markdown",
   "metadata": {},
   "source": [
    "### Get best n"
   ]
  },
  {
   "cell_type": "code",
   "execution_count": null,
   "metadata": {},
   "outputs": [
    {
     "data": {
      "text/plain": [
       "7.662421106316568"
      ]
     },
     "execution_count": 12,
     "metadata": {},
     "output_type": "execute_result"
    }
   ],
   "source": [
    "def get_best_n(t, vr):\n",
    "    periods = np.linspace(0.01, 10, 1000)\n",
    "    frequencies = 2*np.pi/periods\n",
    "    power = sig.lombscargle(t, vr, frequencies)\n",
    "    best_n = frequencies[np.argmax(power)]\n",
    "    return best_n\n",
    "get_best_n(t, vr)"
   ]
  },
  {
   "attachments": {},
   "cell_type": "markdown",
   "metadata": {},
   "source": [
    "### rv function"
   ]
  },
  {
   "cell_type": "code",
   "execution_count": null,
   "metadata": {},
   "outputs": [],
   "source": [
    "def rv_function(t, K, P, w, e, n):\n",
    "    n = 2*np.pi/P\n",
    "    M = n*(t - t[0])\n",
    "    E = solve_kep_eqn(M, e)\n",
    "    f = 2*np.arctan2(np.sqrt(1 + e)*np.sin(E/2), np.sqrt(1 - e)*np.cos(E/2))\n",
    "    return (K*(np.cos(f + w) + e*np.cos(w)))+c"
   ]
  },
  {
   "attachments": {},
   "cell_type": "markdown",
   "metadata": {},
   "source": [
    "### initial guess"
   ]
  },
  {
   "cell_type": "code",
   "execution_count": null,
   "metadata": {},
   "outputs": [
    {
     "name": "stdout",
     "output_type": "stream",
     "text": [
      "(21.619, 1898.973974138361, 0, 0.5, 7.662421106316568)\n"
     ]
    }
   ],
   "source": [
    "def get_initial_guesses(t, vr, jitter):\n",
    "    n0 = get_best_n(t, vr)\n",
    "    k0 = max(vr)\n",
    "    #tau0 = t[vr == k0]\n",
    "    tau0 = t[0]\n",
    "    w0 = 0\n",
    "    e0 = 0.5\n",
    "    periods = 10**np.linspace(0.01,100,1500)\n",
    "    omega = 2*np.pi/periods\n",
    "    power = sig.lombscargle(t, vr, omega)\n",
    "    max_power_index = np.argmax(power)\n",
    "    p0 = periods[max_power_index]\n",
    "    initial_guess = (k0, p0, w0, e0, n0)\n",
    "    return initial_guess\n",
    "print(get_initial_guesses(t, vr, jitter))"
   ]
  },
  {
   "attachments": {},
   "cell_type": "markdown",
   "metadata": {},
   "source": [
    "### Plot"
   ]
  },
  {
   "cell_type": "code",
   "execution_count": null,
   "metadata": {},
   "outputs": [],
   "source": [
    "ig = get_initial_guesses(t, vr, jitter)\n",
    "popt, pcov = curve_fit(rv_function, t, vr, ig)\n",
    "\n",
    "# Extract the fitted parameters from the optimized values\n",
    "K, P, w, e, n = popt\n",
    "print(popt)\n",
    "\n",
    "# Plot the time vs. velocity data and the radial velocity function\n",
    "plt.plot(t, vr, 'o', label='Data')\n",
    "plt.plot(t, rv_function(t, K, P, w, e, n), '-', label='Model')\n",
    "plt.xlabel('Time (days)')\n",
    "plt.ylabel('Radial Velocity (m/s)')\n",
    "plt.legend()\n",
    "plt.show()\n"
   ]
  },
  {
   "attachments": {},
   "cell_type": "markdown",
   "metadata": {},
   "source": [
    "## Code 2"
   ]
  },
  {
   "attachments": {},
   "cell_type": "markdown",
   "metadata": {},
   "source": [
    "#### HD 103891"
   ]
  },
  {
   "cell_type": "markdown",
   "metadata": {},
   "source": [
    "#### Import Modules"
   ]
  },
  {
   "cell_type": "code",
   "execution_count": null,
   "metadata": {},
   "outputs": [],
   "source": [
    "import matplotlib.pyplot as plt\n",
    "from scipy.optimize import curve_fit\n",
    "import numpy as np\n",
    "from pylab import*\n",
    "import pandas as pd"
   ]
  },
  {
   "cell_type": "markdown",
   "metadata": {},
   "source": [
    "#### Import Data"
   ]
  },
  {
   "cell_type": "code",
   "execution_count": null,
   "metadata": {},
   "outputs": [],
   "source": [
    "data = pd.read_csv(\"G:\\MSc Project\\Data\\hd103891.dat\", sep='\\t', header=None)\n",
    "#, lineterminator='\\r'\n",
    "#print(data)"
   ]
  },
  {
   "cell_type": "markdown",
   "metadata": {},
   "source": [
    "#### Extract data"
   ]
  },
  {
   "cell_type": "code",
   "execution_count": null,
   "metadata": {},
   "outputs": [
    {
     "name": "stdout",
     "output_type": "stream",
     "text": [
      "[2453063.75727, 2453063.80694, 2453789.78139, 2453790.84262, 2453866.60643, 2453868.64102, 2454136.82285, 2454142.83664, 2454234.60119, 2454254.52632, 2454483.7925, 2454487.83046, 2454522.83013, 2454540.77333, 2454541.78467, 2454556.6603, 2454557.65078, 2454558.752, 2454563.66079, 2454582.59476, 2454611.57886, 2454813.85368, 2454850.82788, 2454871.71718, 2454872.80015, 2454921.78824, 2454930.588, 2454931.6658, 2455013.52439, 2455019.4897, 2455019.49746, 2455229.78507, 2455237.81571, 2455247.8219, 2455247.90672, 2455266.77331, 2455293.65302, 2455325.57564, 2455404.47643, 2455588.86816, 2455672.63399, 2455689.56289, 2455695.51915, 2455729.47723, 2455960.88736, 2456023.72922, 2456025.65267, 2456051.70645, 2456080.47594, 2456312.82503, 2456332.84591, 2456356.8728, 2456383.79655, 2456385.71096, 2456411.7368, 2456672.86097, 2456730.75336, 2456731.65786, 2456738.74854, 2456743.61754, 2456763.68259, 2456767.62714, 2456819.6071, 2456863.47332, 2457101.67399, 2457147.64728, 2457157.64768, 2457211.53054, 2457219.52163, 2457370.86301, 2457373.86733, 2457413.77595, 2457429.80819, 2457453.76792, 2457454.88371, 2457730.8668, 2457821.57412, 2457847.55884, 2457859.57102, 2457936.452, 2458108.86121, 2458149.80101, 2458156.81532, 2458161.81519, 2458162.79918, 2458188.73169, 2458203.74568, 2458217.70279, 2458298.57103, 2458515.82235, 2458553.68441]\n",
      "[11.851, 7.936, -21.048, -16.754, -17.186, -14.208, 7.869, 9.768, 10.154, 15.368, 11.613, 11.163, 11.477, 19.097, -15.142, 4.768, 12.85, 8.154, 7.987, 5.564, 7.917, 13.098, 7.401, 10.086, 11.06, 21.605, 11.7, 13.202, 8.391, 5.287, 3.291, -7.607, -13.35, -12.139, -6.883, -18.62, -9.573, -22.605, -18.758, -28.714, -25.529, -24.969, -23.557, -17.689, 2.784, 0.352, 8.32, 6.093, 9.663, 10.308, 16.432, 7.599, 8.993, 17.089, 3.829, 7.448, 11.829, 9.002, 10.539, 13.56, 14.32, 12.903, 9.885, 11.187, -6.186, -10.167, -4.526, -6.754, -6.656, -21.13, -14.818, -18.647, -25.011, -23.019, -20.599, -6.709, 6.077, 2.58, 12.419, 11.89, 15.887, 14.522, 21.619, 15.682, 8.929, 17.294, 18.992, 15.838, 13.314, 20.535, 15.37]\n"
     ]
    }
   ],
   "source": [
    "xData = []\n",
    "yData=[]\n",
    "Uncertainty=[]\n",
    "\n",
    "for row in data[data.columns[0]]:\n",
    "  xData.append(row)\n",
    "print(xData)\n",
    "\n",
    "for row in data[data.columns[1]]:\n",
    "  yData.append(row)\n",
    "print(yData)\n",
    "\n",
    "for row in data[data.columns[2]]:\n",
    "  Uncertainty.append(row)\n",
    "print(Uncertainty)\n"
   ]
  },
  {
   "cell_type": "code",
   "execution_count": null,
   "metadata": {},
   "outputs": [
    {
     "name": "stdout",
     "output_type": "stream",
     "text": [
      "2.122934065934066\n",
      "25.1665\n"
     ]
    }
   ],
   "source": [
    "print(sum(yData)/91)\n",
    "print((max(yData)-min(yData))/2)"
   ]
  },
  {
   "cell_type": "markdown",
   "metadata": {},
   "source": [
    "#### Define Function"
   ]
  },
  {
   "cell_type": "code",
   "execution_count": null,
   "metadata": {},
   "outputs": [],
   "source": [
    "def func(x,k,p,ω,e):\n",
    "\t\treturn (2.13 + (k*np.cos(ω*np.pi/180 + ((2*np.pi*x)/p))) + (k*e*np.cos(ω*100)))"
   ]
  },
  {
   "cell_type": "code",
   "execution_count": null,
   "metadata": {},
   "outputs": [],
   "source": [
    "\n",
    "plt.plot(xData,yData,'ro', label='data points')\n",
    "initialGuess=(22,1987,170,0.3)\n",
    "\n",
    "popt,pcov=curve_fit(func,xData,yData,initialGuess,bounds=((18,1800,0,0),(25,2000,360,1000000)), maxfev=5600000) #\n",
    "print(popt)\n",
    "xFit=np.arange(2453000,2459000,20)\n",
    "plt.plot(xFit,func(xFit,*popt),'b',label='fitted curve')\n",
    "\n",
    "plt.xlabel('Julian date')\n",
    "plt.ylabel('radial velocity')\n",
    "plt.legend()\n",
    "plt.savefig('curvefitting')\n",
    "plt.show()"
   ]
  },
  {
   "cell_type": "code",
   "execution_count": null,
   "metadata": {},
   "outputs": [
    {
     "name": "stdout",
     "output_type": "stream",
     "text": [
      "2456016.9375120075 90.8779624771597 2455926.0595495305\n"
     ]
    }
   ],
   "source": [
    "n1=0\n",
    "sm1=0\n",
    "for i in xData:\n",
    "    sq1=i**2\n",
    "    sm1=sm1+sq1\n",
    "    n1=n1+1\n",
    "mean1=sm1/n1\n",
    "rms_data=mean1**0.5\n",
    "n2=0\n",
    "sm2=0\n",
    "for i in xFit:\n",
    "    sq2=i**2/10**6\n",
    "    sm2=sm2+sq2\n",
    "    n2=n2+1\n",
    "mean2=sm2/n2\n",
    "rms_fit=10*3*(mean2**0.5)\n",
    "sigma=rms_data-rms_fit\n",
    "print(rms_data, rms_fit, sigma)"
   ]
  }
 ],
 "metadata": {
  "kernelspec": {
   "display_name": "Python 3",
   "language": "python",
   "name": "python3"
  },
  "language_info": {
   "codemirror_mode": {
    "name": "ipython",
    "version": 3
   },
   "file_extension": ".py",
   "mimetype": "text/x-python",
   "name": "python",
   "nbconvert_exporter": "python",
   "pygments_lexer": "ipython3",
   "version": "3.11.0"
  },
  "orig_nbformat": 4,
  "vscode": {
   "interpreter": {
    "hash": "5238573367df39f7286bb46f9ff5f08f63a01a80960060ce41e3c79b190280fa"
   }
  }
 },
 "nbformat": 4,
 "nbformat_minor": 2
}
